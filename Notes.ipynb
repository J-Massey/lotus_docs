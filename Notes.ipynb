{
 "cells": [
  {
   "cell_type": "markdown",
   "metadata": {},
   "source": [
    "## Iridis4\n",
    "To copy files from the computer to iridis working environment use this command."
   ]
  },
  {
   "cell_type": "raw",
   "metadata": {},
   "source": [
    "$ scp /home/masseyjmo/Workspace/Lotus/projects/cylinder2D/lotus.f90 /home/masseyjmo/Workspace/Lotus/projects/cylinder2D/subLotus jmom1n15@iridis4_a.soton.ac.uk:/scratch/jmom1n15/Lotus/projects/cylinder2D\n",
    "\n",
    "$ scp -r jmom1n15@iridis4_a.soton.ac.uk:/scratch/jmom1n15/Lotus/projects/cylinder2D /home/masseyjmo/Workspace/Lotus/projects/cylinder2D/"
   ]
  },
  {
   "cell_type": "markdown",
   "metadata": {},
   "source": [
    "## Problems\n",
    "Same problem with ifort, the reassigning of the fortran compiler didn't initially work. In the first instance I was looping around in the ~/.bashrc file instead of sourcing the profile."
   ]
  },
  {
   "cell_type": "markdown",
   "metadata": {},
   "source": [
    "## Job submission\n",
    "- Need to 'make' the executable everytime, write script to get around that.\n",
    "- stat.py needs updating and putting in the directory\n",
    "- To submit a job the 'module purge' needs to be taken out of the .bash_profile\n",
    "    - This problem arrises if you have tested the simulation on the login node and try to submit the job in the same session"
   ]
  },
  {
   "cell_type": "markdown",
   "metadata": {},
   "source": [
    "## Useful functions"
   ]
  },
  {
   "cell_type": "raw",
   "metadata": {},
   "source": [
    "flowmax = flow%velocity%e(1)%max()"
   ]
  },
  {
   "cell_type": "markdown",
   "metadata": {},
   "source": [
    "## Setting up a uniform grid\n",
    "To set up a uniform grid in Lotus you just specify the number and distribution of points in x and y eg:"
   ]
  },
  {
   "cell_type": "raw",
   "metadata": {},
   "source": [
    "n = composite(D*(/22,9,0/), prnt=root)"
   ]
  },
  {
   "cell_type": "markdown",
   "metadata": {},
   "source": [
    "To define the body in y you define the centre of the body from the geometry file. In x you use the offset subroutine . An example can be seen in the MGProp Test:"
   ]
  },
  {
   "cell_type": "raw",
   "metadata": {},
   "source": [
    "xg(1)%left = n(1)/5."
   ]
  },
  {
   "cell_type": "markdown",
   "metadata": {},
   "source": [
    "It's not completely clear why the centre of the geometry seems to be about 1/5th of the way along the domain??"
   ]
  },
  {
   "cell_type": "markdown",
   "metadata": {},
   "source": [
    "## Git bullets\n",
    "- Check status "
   ]
  },
  {
   "cell_type": "raw",
   "metadata": {},
   "source": [
    "$ git status"
   ]
  },
  {
   "cell_type": "markdown",
   "metadata": {},
   "source": [
    "- Add files to be committed"
   ]
  },
  {
   "cell_type": "raw",
   "metadata": {},
   "source": [
    "$ git add ."
   ]
  },
  {
   "cell_type": "markdown",
   "metadata": {},
   "source": [
    "- Check the differences"
   ]
  },
  {
   "cell_type": "raw",
   "metadata": {},
   "source": [
    "$ git diff"
   ]
  },
  {
   "cell_type": "raw",
   "metadata": {},
   "source": [
    "$ git status && git add . && git diff"
   ]
  },
  {
   "cell_type": "markdown",
   "metadata": {},
   "source": [
    "- Commit with a message"
   ]
  },
  {
   "cell_type": "raw",
   "metadata": {},
   "source": [
    "$ git commit -m \"<message>\""
   ]
  },
  {
   "cell_type": "markdown",
   "metadata": {},
   "source": [
    "- Push the commits to the original repository\n",
    "- Only when you're sure and everything has been checked"
   ]
  },
  {
   "cell_type": "raw",
   "metadata": {},
   "source": [
    "$ git push"
   ]
  },
  {
   "cell_type": "markdown",
   "metadata": {},
   "source": [
    "## Find out quota and files stored on Iridis"
   ]
  },
  {
   "cell_type": "raw",
   "metadata": {},
   "source": [
    "$ mmlsquota --block-size=G home scratch"
   ]
  },
  {
   "cell_type": "markdown",
   "metadata": {},
   "source": [
    "# Iridis5 useful commands\n",
    "The state of the queue can be seen with the squeue command. This shows the whole queue and you could grep that or you can use the -u option"
   ]
  },
  {
   "cell_type": "raw",
   "metadata": {},
   "source": [
    "sbatch subLotus\n",
    "squeue -lu <USERNAME>\n",
    "scancel <JOB ID>"
   ]
  },
  {
   "cell_type": "raw",
   "metadata": {},
   "source": [
    "$ scp /home/masseyjmo/Workspace/Lotus/projects/cylinder2D/lotus.f90 /home/masseyjmo/Workspace/Lotus/projects/cylinder2D/subLotus jmom1n15@iridis5_a.soton.ac.uk:/scratch/jmom1n15/Lotus/\n",
    "\n",
    "$ scp -r jmom1n15@iridis5_a.soton.ac.uk:/scratch/jmom1n15/Lotus/<folder>\n",
    " /home/masseyjmo/Workspace/Lotus/projects/cylinder2D/"
   ]
  }
 ],
 "metadata": {
  "kernelspec": {
   "display_name": "Python 3",
   "language": "python",
   "name": "python3"
  },
  "language_info": {
   "codemirror_mode": {
    "name": "ipython",
    "version": 3
   },
   "file_extension": ".py",
   "mimetype": "text/x-python",
   "name": "python",
   "nbconvert_exporter": "python",
   "pygments_lexer": "ipython3",
   "version": "3.7.4"
  }
 },
 "nbformat": 4,
 "nbformat_minor": 4
}
